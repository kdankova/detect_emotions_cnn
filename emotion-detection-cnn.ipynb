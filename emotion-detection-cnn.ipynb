{
 "cells": [
  {
   "cell_type": "code",
   "execution_count": null,
   "id": "97c31091",
   "metadata": {
    "_cell_guid": "b1076dfc-b9ad-4769-8c92-a6c4dae69d19",
    "_kg_hide-output": true,
    "_uuid": "8f2839f25d086af736a60e9eeb907d3b93b6e0e5",
    "execution": {
     "iopub.execute_input": "2024-02-04T14:45:06.519112Z",
     "iopub.status.busy": "2024-02-04T14:45:06.518697Z",
     "iopub.status.idle": "2024-02-04T14:45:18.719063Z",
     "shell.execute_reply": "2024-02-04T14:45:18.718121Z"
    },
    "papermill": {
     "duration": 12.238839,
     "end_time": "2024-02-04T14:45:18.747101",
     "exception": false,
     "start_time": "2024-02-04T14:45:06.508262",
     "status": "completed"
    },
    "tags": []
   },
   "outputs": [],
   "source": [
    "import numpy as np\n",
    "import pandas as pd\n",
    "import os\n",
    "\n",
    "for dirname, _, filenames in os.walk('emotions_dataset'):\n",
    "    for filename in filenames:\n",
    "        print(os.path.join(dirname, filename))\n"
   ]
  },
  {
   "cell_type": "markdown",
   "id": "1097061e",
   "metadata": {
    "papermill": {
     "duration": 0.049105,
     "end_time": "2024-02-04T14:45:18.866872",
     "exception": false,
     "start_time": "2024-02-04T14:45:18.817767",
     "status": "completed"
    },
    "tags": []
   },
   "source": [
    "# 1| Import our important libraries"
   ]
  },
  {
   "cell_type": "code",
   "execution_count": null,
   "id": "4fd2b783",
   "metadata": {
    "execution": {
     "iopub.execute_input": "2024-02-04T14:45:18.969136Z",
     "iopub.status.busy": "2024-02-04T14:45:18.968646Z",
     "iopub.status.idle": "2024-02-04T14:45:32.441013Z",
     "shell.execute_reply": "2024-02-04T14:45:32.440113Z"
    },
    "papermill": {
     "duration": 13.527817,
     "end_time": "2024-02-04T14:45:32.443164",
     "exception": false,
     "start_time": "2024-02-04T14:45:18.915347",
     "status": "completed"
    },
    "tags": []
   },
   "outputs": [],
   "source": [
    "import os\n",
    "import time\n",
    "import shutil\n",
    "import pathlib\n",
    "import itertools\n",
    "from PIL import Image\n",
    "\n",
    "import numpy as np\n",
    "import pandas as pd\n",
    "import seaborn as sns\n",
    "\n",
    "sns.set_style('darkgrid')\n",
    "import matplotlib.pyplot as plt\n",
    "from sklearn.model_selection import train_test_split\n",
    "from sklearn.metrics import confusion_matrix, classification_report\n",
    "\n",
    "import tensorflow as tf\n",
    "\n",
    "from keras.models import Sequential\n",
    "from keras.optimizers import Adam, Adamax\n",
    "from keras.metrics import categorical_crossentropy\n",
    "from keras.preprocessing.image import ImageDataGenerator\n",
    "from keras.layers import Conv2D, MaxPooling2D, Flatten, Dense, Activation, Dropout, BatchNormalization\n",
    "from keras import regularizers\n",
    "\n",
    "import warnings\n",
    "\n",
    "warnings.filterwarnings(\"ignore\")\n"
   ]
  },
  {
   "cell_type": "markdown",
   "id": "8369a586",
   "metadata": {
    "papermill": {
     "duration": 0.049421,
     "end_time": "2024-02-04T14:45:32.541910",
     "exception": false,
     "start_time": "2024-02-04T14:45:32.492489",
     "status": "completed"
    },
    "tags": []
   },
   "source": [
    "# 2| Data preprocessing"
   ]
  },
  {
   "cell_type": "code",
   "execution_count": null,
   "id": "594c88a3",
   "metadata": {
    "execution": {
     "iopub.execute_input": "2024-02-04T14:45:32.642365Z",
     "iopub.status.busy": "2024-02-04T14:45:32.641706Z",
     "iopub.status.idle": "2024-02-04T14:45:32.737727Z",
     "shell.execute_reply": "2024-02-04T14:45:32.736749Z"
    },
    "papermill": {
     "duration": 0.148459,
     "end_time": "2024-02-04T14:45:32.740109",
     "exception": false,
     "start_time": "2024-02-04T14:45:32.591650",
     "status": "completed"
    },
    "tags": []
   },
   "outputs": [],
   "source": [
    "train_dir = 'emotions_dataset/train'\n",
    "filepaths = []\n",
    "labels = []\n",
    "\n",
    "folds = os.listdir(train_dir)\n",
    "for fold in folds:\n",
    "    foldpath = os.path.join(train_dir, fold)\n",
    "    filelist = os.listdir(foldpath)\n",
    "    for file in filelist:\n",
    "        fpath = os.path.join(foldpath, file)\n",
    "        filepaths.append(fpath)\n",
    "        labels.append(fold)\n",
    "\n",
    "# Concatenate data paths with labels into one dataframe\n",
    "Fseries = pd.Series(filepaths, name='filepaths')\n",
    "Lseries = pd.Series(labels, name='labels')\n",
    "train_df = pd.concat([Fseries, Lseries], axis=1)"
   ]
  },
  {
   "cell_type": "code",
   "execution_count": null,
   "id": "d47e1a4a",
   "metadata": {
    "execution": {
     "iopub.execute_input": "2024-02-04T14:45:32.841651Z",
     "iopub.status.busy": "2024-02-04T14:45:32.841295Z",
     "iopub.status.idle": "2024-02-04T14:45:32.859884Z",
     "shell.execute_reply": "2024-02-04T14:45:32.859048Z"
    },
    "papermill": {
     "duration": 0.070902,
     "end_time": "2024-02-04T14:45:32.861764",
     "exception": false,
     "start_time": "2024-02-04T14:45:32.790862",
     "status": "completed"
    },
    "tags": []
   },
   "outputs": [],
   "source": [
    "train_df"
   ]
  },
  {
   "cell_type": "code",
   "execution_count": null,
   "id": "91cad1a9",
   "metadata": {
    "execution": {
     "iopub.execute_input": "2024-02-04T14:45:32.982572Z",
     "iopub.status.busy": "2024-02-04T14:45:32.982128Z",
     "iopub.status.idle": "2024-02-04T14:45:33.020053Z",
     "shell.execute_reply": "2024-02-04T14:45:33.019239Z"
    },
    "papermill": {
     "duration": 0.103428,
     "end_time": "2024-02-04T14:45:33.022242",
     "exception": false,
     "start_time": "2024-02-04T14:45:32.918814",
     "status": "completed"
    },
    "tags": []
   },
   "outputs": [],
   "source": [
    "test_dir = 'emotions_dataset/test'\n",
    "filepaths = []\n",
    "labels = []\n",
    "\n",
    "folds = os.listdir(test_dir)\n",
    "for fold in folds:\n",
    "    foldpath = os.path.join(test_dir, fold)\n",
    "    filelist = os.listdir(foldpath)\n",
    "    for file in filelist:\n",
    "        fpath = os.path.join(foldpath, file)\n",
    "        filepaths.append(fpath)\n",
    "        labels.append(fold)\n",
    "\n",
    "# Concatenate data paths with labels into one dataframe\n",
    "Fseries = pd.Series(filepaths, name='filepaths')\n",
    "Lseries = pd.Series(labels, name='labels')\n",
    "test_df = pd.concat([Fseries, Lseries], axis=1)"
   ]
  },
  {
   "cell_type": "code",
   "execution_count": null,
   "id": "9241f78d",
   "metadata": {
    "execution": {
     "iopub.execute_input": "2024-02-04T14:45:33.130851Z",
     "iopub.status.busy": "2024-02-04T14:45:33.129893Z",
     "iopub.status.idle": "2024-02-04T14:45:33.140159Z",
     "shell.execute_reply": "2024-02-04T14:45:33.139272Z"
    },
    "papermill": {
     "duration": 0.066984,
     "end_time": "2024-02-04T14:45:33.142185",
     "exception": false,
     "start_time": "2024-02-04T14:45:33.075201",
     "status": "completed"
    },
    "tags": []
   },
   "outputs": [],
   "source": [
    "test_df"
   ]
  },
  {
   "cell_type": "markdown",
   "id": "458fd2b0",
   "metadata": {
    "papermill": {
     "duration": 0.051792,
     "end_time": "2024-02-04T14:45:33.246866",
     "exception": false,
     "start_time": "2024-02-04T14:45:33.195074",
     "status": "completed"
    },
    "tags": []
   },
   "source": [
    "# 3| Splitting the dataframe into train , valid and test"
   ]
  },
  {
   "cell_type": "code",
   "execution_count": null,
   "id": "08923241",
   "metadata": {
    "execution": {
     "iopub.execute_input": "2024-02-04T14:45:33.354304Z",
     "iopub.status.busy": "2024-02-04T14:45:33.353448Z",
     "iopub.status.idle": "2024-02-04T14:45:33.360421Z",
     "shell.execute_reply": "2024-02-04T14:45:33.359622Z"
    },
    "papermill": {
     "duration": 0.063421,
     "end_time": "2024-02-04T14:45:33.362498",
     "exception": false,
     "start_time": "2024-02-04T14:45:33.299077",
     "status": "completed"
    },
    "tags": []
   },
   "outputs": [],
   "source": [
    "valid_df, test_df = train_test_split(test_df, train_size=0.6, shuffle=True, random_state=123)"
   ]
  },
  {
   "cell_type": "markdown",
   "id": "021dcd8e",
   "metadata": {
    "papermill": {
     "duration": 0.053402,
     "end_time": "2024-02-04T14:45:33.469025",
     "exception": false,
     "start_time": "2024-02-04T14:45:33.415623",
     "status": "completed"
    },
    "tags": []
   },
   "source": [
    "# 4| Image Data Generator"
   ]
  },
  {
   "cell_type": "code",
   "execution_count": null,
   "id": "f883e9e1",
   "metadata": {
    "execution": {
     "iopub.execute_input": "2024-02-04T14:45:33.576037Z",
     "iopub.status.busy": "2024-02-04T14:45:33.575329Z",
     "iopub.status.idle": "2024-02-04T14:45:47.261646Z",
     "shell.execute_reply": "2024-02-04T14:45:47.260556Z"
    },
    "papermill": {
     "duration": 13.742353,
     "end_time": "2024-02-04T14:45:47.264158",
     "exception": false,
     "start_time": "2024-02-04T14:45:33.521805",
     "status": "completed"
    },
    "tags": []
   },
   "outputs": [],
   "source": [
    "batch_size = 16\n",
    "img_size = (224, 224)\n",
    "channels = 3\n",
    "img_shape = (img_size[0], img_size[1], channels)\n",
    "\n",
    "tr_gen = ImageDataGenerator()\n",
    "ts_gen = ImageDataGenerator()\n",
    "train_gen = tr_gen.flow_from_dataframe(train_df, x_col='filepaths', y_col='labels', target_size=img_size,\n",
    "                                       class_mode='categorical',\n",
    "                                       color_mode='rgb', shuffle=True, batch_size=batch_size)\n",
    "\n",
    "valid_gen = ts_gen.flow_from_dataframe(valid_df, x_col='filepaths', y_col='labels', target_size=img_size,\n",
    "                                       class_mode='categorical',\n",
    "                                       color_mode='rgb', shuffle=True, batch_size=batch_size)\n",
    "\n",
    "test_gen = ts_gen.flow_from_dataframe(test_df, x_col='filepaths', y_col='labels', target_size=img_size,\n",
    "                                      class_mode='categorical',\n",
    "                                      color_mode='rgb', shuffle=False, batch_size=batch_size)"
   ]
  },
  {
   "cell_type": "markdown",
   "id": "fa107b47",
   "metadata": {
    "papermill": {
     "duration": 0.052042,
     "end_time": "2024-02-04T14:45:47.370691",
     "exception": false,
     "start_time": "2024-02-04T14:45:47.318649",
     "status": "completed"
    },
    "tags": []
   },
   "source": [
    "# 5| Showing sample from our train data"
   ]
  },
  {
   "cell_type": "code",
   "execution_count": null,
   "id": "5beebe31",
   "metadata": {
    "execution": {
     "iopub.execute_input": "2024-02-04T14:45:47.477954Z",
     "iopub.status.busy": "2024-02-04T14:45:47.477591Z",
     "iopub.status.idle": "2024-02-04T14:45:50.418333Z",
     "shell.execute_reply": "2024-02-04T14:45:50.417340Z"
    },
    "papermill": {
     "duration": 3.000812,
     "end_time": "2024-02-04T14:45:50.423536",
     "exception": false,
     "start_time": "2024-02-04T14:45:47.422724",
     "status": "completed"
    },
    "tags": []
   },
   "outputs": [],
   "source": [
    "g_dict = train_gen.class_indices\n",
    "classes = list(g_dict.keys())\n",
    "images, labels = next(train_gen)\n",
    "\n",
    "plt.figure(figsize=(20, 20))\n",
    "\n",
    "for i in range(16):\n",
    "    plt.subplot(4, 4, i + 1)\n",
    "    image = images[i] / 255  # scales data to range (0 - 255)\n",
    "    plt.imshow(image)\n",
    "    index = np.argmax(labels[i])  # get image index\n",
    "    class_name = classes[index]  # get class of image\n",
    "    plt.title(class_name, color='blue', fontsize=12)\n",
    "    plt.axis('off')\n",
    "plt.show()"
   ]
  },
  {
   "cell_type": "markdown",
   "id": "f72cc357",
   "metadata": {
    "papermill": {
     "duration": 0.061653,
     "end_time": "2024-02-04T14:45:50.545581",
     "exception": false,
     "start_time": "2024-02-04T14:45:50.483928",
     "status": "completed"
    },
    "tags": []
   },
   "source": [
    "# 6| Model structure\n"
   ]
  },
  {
   "cell_type": "code",
   "execution_count": null,
   "id": "002c1b02",
   "metadata": {
    "execution": {
     "iopub.execute_input": "2024-02-04T14:45:50.672341Z",
     "iopub.status.busy": "2024-02-04T14:45:50.671955Z",
     "iopub.status.idle": "2024-02-04T14:46:14.276049Z",
     "shell.execute_reply": "2024-02-04T14:46:14.274892Z"
    },
    "papermill": {
     "duration": 23.670669,
     "end_time": "2024-02-04T14:46:14.278570",
     "exception": false,
     "start_time": "2024-02-04T14:45:50.607901",
     "status": "completed"
    },
    "tags": []
   },
   "outputs": [],
   "source": [
    "# Create Model Structure\n",
    "img_size = (224, 224)\n",
    "channels = 3\n",
    "img_shape = (img_size[0], img_size[1], channels)\n",
    "class_count = len(list(train_gen.class_indices.keys()))  # to define number of classes in dense layer\n",
    "\n",
    "# Create pre-trained model (we can built on pretrained model such as :  efficientnet, VGG , Resnet )\n",
    "# I will use efficientnetb3 from EfficientNet family.\n",
    "base_model = tf.keras.applications.efficientnet.EfficientNetB2(include_top=False, weights=\"imagenet\",\n",
    "                                                               input_shape=img_shape, pooling='max')\n",
    "# base_model.trainable = False\n",
    "model = Sequential([\n",
    "    base_model,\n",
    "    BatchNormalization(axis=-1, momentum=0.99, epsilon=0.01),\n",
    "    Dense(256, kernel_regularizer=regularizers.l2(l=0.016), activity_regularizer=regularizers.l1(0.06),\n",
    "          bias_regularizer=regularizers.l1(0.06), activation='relu'),\n",
    "    Dropout(rate=0.45, seed=123),\n",
    "    Dense(class_count, activation='softmax')\n",
    "])\n",
    "\n",
    "model.compile(Adamax(learning_rate=0.01), loss='categorical_crossentropy', metrics=['accuracy'])\n",
    "\n",
    "model.summary()"
   ]
  },
  {
   "cell_type": "markdown",
   "id": "daaec5ee",
   "metadata": {
    "papermill": {
     "duration": 0.076149,
     "end_time": "2024-02-04T14:46:14.435349",
     "exception": false,
     "start_time": "2024-02-04T14:46:14.359200",
     "status": "completed"
    },
    "tags": []
   },
   "source": [
    "# 7| Fitting our model"
   ]
  },
  {
   "cell_type": "code",
   "execution_count": null,
   "id": "b9839c45",
   "metadata": {
    "execution": {
     "iopub.execute_input": "2024-02-04T14:46:14.583270Z",
     "iopub.status.busy": "2024-02-04T14:46:14.582883Z",
     "iopub.status.idle": "2024-02-04T17:43:36.735112Z",
     "shell.execute_reply": "2024-02-04T17:43:36.734089Z"
    },
    "papermill": {
     "duration": 10642.229131,
     "end_time": "2024-02-04T17:43:36.737427",
     "exception": false,
     "start_time": "2024-02-04T14:46:14.508296",
     "status": "completed"
    },
    "tags": []
   },
   "outputs": [],
   "source": [
    "batch_size = 20  # set batch size for training\n",
    "epochs = 10  # number of all epochs in training\n",
    "\n",
    "history = model.fit(x=train_gen, epochs=epochs, verbose=1, validation_data=valid_gen,\n",
    "                    validation_steps=None, shuffle=False)\n",
    "\n",
    "\n"
   ]
  },
  {
   "cell_type": "code",
   "execution_count": null,
   "id": "f54b7168",
   "metadata": {
    "execution": {
     "iopub.execute_input": "2024-02-04T17:43:39.886006Z",
     "iopub.status.busy": "2024-02-04T17:43:39.885586Z",
     "iopub.status.idle": "2024-02-04T17:43:40.550064Z",
     "shell.execute_reply": "2024-02-04T17:43:40.549077Z"
    },
    "papermill": {
     "duration": 2.282111,
     "end_time": "2024-02-04T17:43:40.552617",
     "exception": false,
     "start_time": "2024-02-04T17:43:38.270506",
     "status": "completed"
    },
    "tags": []
   },
   "outputs": [],
   "source": [
    "tr_acc = history.history['accuracy']\n",
    "tr_loss = history.history['loss']\n",
    "val_acc = history.history['val_accuracy']\n",
    "val_loss = history.history['val_loss']\n",
    "index_loss = np.argmin(val_loss)\n",
    "val_lowest = val_loss[index_loss]\n",
    "index_acc = np.argmax(val_acc)\n",
    "acc_highest = val_acc[index_acc]\n",
    "Epochs = [i + 1 for i in range(len(tr_acc))]\n",
    "loss_label = f'best epoch= {str(index_loss + 1)}'\n",
    "acc_label = f'best epoch= {str(index_acc + 1)}'\n",
    "# Plot training history\n",
    "plt.figure(figsize=(20, 8))\n",
    "plt.style.use('fivethirtyeight')\n",
    "plt.subplot(1, 2, 1)\n",
    "plt.plot(Epochs, tr_loss, 'r', label='Training loss')\n",
    "plt.plot(Epochs, val_loss, 'g', label='Validation loss')\n",
    "plt.scatter(index_loss + 1, val_lowest, s=150, c='blue', label=loss_label)\n",
    "plt.title('Training and Validation Loss')\n",
    "plt.xlabel('Epochs')\n",
    "plt.ylabel('Loss')\n",
    "plt.legend()\n",
    "plt.subplot(1, 2, 2)\n",
    "plt.plot(Epochs, tr_acc, 'r', label='Training Accuracy')\n",
    "plt.plot(Epochs, val_acc, 'g', label='Validation Accuracy')\n",
    "plt.scatter(index_acc + 1, acc_highest, s=150, c='blue', label=acc_label)\n",
    "plt.title('Training and Validation Accuracy')\n",
    "plt.xlabel('Epochs')\n",
    "plt.ylabel('Accuracy')\n",
    "plt.legend()\n",
    "plt.tight_layout\n",
    "plt.show()"
   ]
  },
  {
   "cell_type": "markdown",
   "id": "9e199c54",
   "metadata": {
    "papermill": {
     "duration": 1.664435,
     "end_time": "2024-02-04T17:43:43.851017",
     "exception": false,
     "start_time": "2024-02-04T17:43:42.186582",
     "status": "completed"
    },
    "tags": []
   },
   "source": [
    "# 8| Evaluate the model"
   ]
  },
  {
   "cell_type": "code",
   "execution_count": null,
   "id": "e16772f2",
   "metadata": {
    "execution": {
     "iopub.execute_input": "2024-02-04T17:43:46.996000Z",
     "iopub.status.busy": "2024-02-04T17:43:46.995628Z",
     "iopub.status.idle": "2024-02-04T17:46:22.685910Z",
     "shell.execute_reply": "2024-02-04T17:46:22.684928Z"
    },
    "papermill": {
     "duration": 159.02125,
     "end_time": "2024-02-04T17:46:24.386328",
     "exception": false,
     "start_time": "2024-02-04T17:43:45.365078",
     "status": "completed"
    },
    "tags": []
   },
   "outputs": [],
   "source": [
    "ts_length = len(test_df)\n",
    "test_batch_size = max(\n",
    "    sorted([ts_length // n for n in range(1, ts_length + 1) if ts_length % n == 0 and ts_length / n <= 80]))\n",
    "test_steps = ts_length // test_batch_size\n",
    "\n",
    "train_score = model.evaluate(train_gen, steps=test_steps, verbose=1)\n",
    "valid_score = model.evaluate(valid_gen, steps=test_steps, verbose=1)\n",
    "test_score = model.evaluate(test_gen, steps=test_steps, verbose=1)\n",
    "\n",
    "print(\"Train Loss: \", train_score[0])\n",
    "print(\"Train Accuracy: \", train_score[1])\n",
    "print('-' * 20)\n",
    "print(\"Validation Loss: \", valid_score[0])\n",
    "print(\"Validation Accuracy: \", valid_score[1])\n",
    "print('-' * 20)\n",
    "print(\"Test Loss: \", test_score[0])\n",
    "print(\"Test Accuracy: \", test_score[1])"
   ]
  },
  {
   "cell_type": "markdown",
   "id": "53c00b72",
   "metadata": {
    "papermill": {
     "duration": 1.683056,
     "end_time": "2024-02-04T17:46:27.691449",
     "exception": false,
     "start_time": "2024-02-04T17:46:26.008393",
     "status": "completed"
    },
    "tags": []
   },
   "source": [
    "# 9| Predictions"
   ]
  },
  {
   "cell_type": "code",
   "execution_count": null,
   "id": "878d97fa",
   "metadata": {
    "execution": {
     "iopub.execute_input": "2024-02-04T17:46:30.993265Z",
     "iopub.status.busy": "2024-02-04T17:46:30.992891Z",
     "iopub.status.idle": "2024-02-04T17:46:56.588827Z",
     "shell.execute_reply": "2024-02-04T17:46:56.588014Z"
    },
    "papermill": {
     "duration": 27.185017,
     "end_time": "2024-02-04T17:46:56.591424",
     "exception": false,
     "start_time": "2024-02-04T17:46:29.406407",
     "status": "completed"
    },
    "tags": []
   },
   "outputs": [],
   "source": [
    "preds = model.predict_generator(test_gen)\n",
    "y_pred = np.argmax(preds, axis=1)"
   ]
  },
  {
   "cell_type": "markdown",
   "id": "0a5abff1",
   "metadata": {
    "papermill": {
     "duration": 1.616244,
     "end_time": "2024-02-04T17:46:59.909644",
     "exception": false,
     "start_time": "2024-02-04T17:46:58.293400",
     "status": "completed"
    },
    "tags": []
   },
   "source": [
    "# confusion matrix and classification report"
   ]
  },
  {
   "cell_type": "code",
   "execution_count": null,
   "id": "96e4370c",
   "metadata": {
    "execution": {
     "iopub.execute_input": "2024-02-04T17:47:03.237371Z",
     "iopub.status.busy": "2024-02-04T17:47:03.237005Z",
     "iopub.status.idle": "2024-02-04T17:47:03.768321Z",
     "shell.execute_reply": "2024-02-04T17:47:03.767365Z"
    },
    "papermill": {
     "duration": 2.168243,
     "end_time": "2024-02-04T17:47:03.771166",
     "exception": false,
     "start_time": "2024-02-04T17:47:01.602923",
     "status": "completed"
    },
    "tags": []
   },
   "outputs": [],
   "source": [
    "g_dict = test_gen.class_indices\n",
    "classes = list(g_dict.keys())\n",
    "\n",
    "# Confusion matrix\n",
    "cm = confusion_matrix(test_gen.classes, y_pred)\n",
    "\n",
    "plt.figure(figsize=(10, 10))\n",
    "plt.imshow(cm, interpolation='nearest', cmap=plt.cm.Blues)\n",
    "plt.title('Confusion Matrix')\n",
    "plt.colorbar()\n",
    "tick_marks = np.arange(len(classes))\n",
    "plt.xticks(tick_marks, classes, rotation=45)\n",
    "plt.yticks(tick_marks, classes)\n",
    "thresh = cm.max() / 2.\n",
    "for i, j in itertools.product(range(cm.shape[0]), range(cm.shape[1])):\n",
    "    plt.text(j, i, cm[i, j], horizontalalignment='center', color='white' if cm[i, j] > thresh else 'black')\n",
    "\n",
    "plt.tight_layout()\n",
    "plt.ylabel('True Label')\n",
    "plt.xlabel('Predicted Label')\n",
    "\n",
    "plt.show()"
   ]
  },
  {
   "cell_type": "code",
   "execution_count": null,
   "id": "17688625",
   "metadata": {
    "execution": {
     "iopub.execute_input": "2024-02-04T17:47:07.051814Z",
     "iopub.status.busy": "2024-02-04T17:47:07.050967Z",
     "iopub.status.idle": "2024-02-04T17:47:07.068389Z",
     "shell.execute_reply": "2024-02-04T17:47:07.067223Z"
    },
    "papermill": {
     "duration": 1.61532,
     "end_time": "2024-02-04T17:47:07.070352",
     "exception": false,
     "start_time": "2024-02-04T17:47:05.455032",
     "status": "completed"
    },
    "tags": []
   },
   "outputs": [],
   "source": [
    "# Classification report\n",
    "print(classification_report(test_gen.classes, y_pred, target_names=classes))"
   ]
  },
  {
   "cell_type": "markdown",
   "id": "89467b74",
   "metadata": {
    "papermill": {
     "duration": 1.579719,
     "end_time": "2024-02-04T17:47:10.468142",
     "exception": false,
     "start_time": "2024-02-04T17:47:08.888423",
     "status": "completed"
    },
    "tags": []
   },
   "source": [
    "# 10| saving the model and load it to predict"
   ]
  },
  {
   "cell_type": "code",
   "execution_count": null,
   "id": "c9ff304c",
   "metadata": {
    "execution": {
     "iopub.execute_input": "2024-02-04T17:47:13.758511Z",
     "iopub.status.busy": "2024-02-04T17:47:13.757718Z",
     "iopub.status.idle": "2024-02-04T17:47:16.955737Z",
     "shell.execute_reply": "2024-02-04T17:47:16.954720Z"
    },
    "papermill": {
     "duration": 4.804756,
     "end_time": "2024-02-04T17:47:16.958228",
     "exception": false,
     "start_time": "2024-02-04T17:47:12.153472",
     "status": "completed"
    },
    "tags": []
   },
   "outputs": [],
   "source": [
    "model.save(\"model.h5\")"
   ]
  },
  {
   "cell_type": "code",
   "execution_count": null,
   "id": "08e208af",
   "metadata": {
    "execution": {
     "iopub.execute_input": "2024-02-04T17:47:20.302424Z",
     "iopub.status.busy": "2024-02-04T17:47:20.302043Z",
     "iopub.status.idle": "2024-02-04T17:47:31.246248Z",
     "shell.execute_reply": "2024-02-04T17:47:31.245437Z"
    },
    "papermill": {
     "duration": 12.598832,
     "end_time": "2024-02-04T17:47:31.248554",
     "exception": false,
     "start_time": "2024-02-04T17:47:18.649722",
     "status": "completed"
    },
    "tags": []
   },
   "outputs": [],
   "source": [
    "loaded_model = tf.keras.models.load_model('model.h5', compile=False)\n",
    "loaded_model.compile(Adamax(learning_rate=0.001), loss='categorical_crossentropy', metrics=['accuracy'])"
   ]
  },
  {
   "cell_type": "code",
   "execution_count": null,
   "id": "0d0e8bf0",
   "metadata": {
    "execution": {
     "iopub.execute_input": "2024-02-04T17:47:34.538574Z",
     "iopub.status.busy": "2024-02-04T17:47:34.538217Z",
     "iopub.status.idle": "2024-02-04T17:47:40.841625Z",
     "shell.execute_reply": "2024-02-04T17:47:40.840678Z"
    },
    "papermill": {
     "duration": 7.900758,
     "end_time": "2024-02-04T17:47:40.843621",
     "exception": false,
     "start_time": "2024-02-04T17:47:32.942863",
     "status": "completed"
    },
    "tags": []
   },
   "outputs": [],
   "source": [
    "image_path = 'emotions_dataset/test/happy/im1002.png'\n",
    "image = Image.open(image_path)\n",
    "\n",
    "# Preprocess the image\n",
    "img = image.resize((224, 224))\n",
    "img_array = tf.keras.preprocessing.image.img_to_array(img)\n",
    "img_array = tf.expand_dims(img_array, 0)\n",
    "\n",
    "# Make predictions\n",
    "predictions = loaded_model.predict(img_array)\n",
    "class_labels = classes\n",
    "score = tf.nn.softmax(predictions[0])\n",
    "print(f\"{class_labels[tf.argmax(score)]}\")"
   ]
  },
  {
   "cell_type": "code",
   "execution_count": null,
   "id": "783fc1b4",
   "metadata": {
    "execution": {
     "iopub.execute_input": "2024-02-04T17:47:44.154122Z",
     "iopub.status.busy": "2024-02-04T17:47:44.153740Z",
     "iopub.status.idle": "2024-02-04T17:47:45.157360Z",
     "shell.execute_reply": "2024-02-04T17:47:45.156130Z"
    },
    "papermill": {
     "duration": 2.606147,
     "end_time": "2024-02-04T17:47:45.159623",
     "exception": false,
     "start_time": "2024-02-04T17:47:42.553476",
     "status": "completed"
    },
    "tags": []
   },
   "outputs": [],
   "source": [
    "image_path2 = 'emotions_dataset/test/surprised/im1.png'\n",
    "image = Image.open(image_path2)\n",
    "\n",
    "# Preprocess the image\n",
    "img = image.resize((224, 224))\n",
    "img_array = tf.keras.preprocessing.image.img_to_array(img)\n",
    "img_array = tf.expand_dims(img_array, 0)\n",
    "\n",
    "# Make predictions\n",
    "predictions = loaded_model.predict(img_array)\n",
    "class_labels = classes\n",
    "score = tf.nn.softmax(predictions[0])\n",
    "print(f\"{class_labels[tf.argmax(score)]}\")"
   ]
  },
  {
   "cell_type": "code",
   "execution_count": null,
   "outputs": [],
   "source": [],
   "metadata": {
    "collapsed": false
   },
   "id": "d4b7090c8a7ec44"
  },
  {
   "cell_type": "code",
   "execution_count": null,
   "outputs": [],
   "source": [],
   "metadata": {
    "collapsed": false
   },
   "id": "ba705470aba3eb11"
  },
  {
   "cell_type": "code",
   "execution_count": null,
   "outputs": [],
   "source": [],
   "metadata": {
    "collapsed": false
   },
   "id": "69d68e612b0b9e5b"
  }
 ],
 "metadata": {
  "kaggle": {
   "accelerator": "gpu",
   "dataSources": [
    {
     "datasetId": 1028436,
     "sourceId": 1732825,
     "sourceType": "datasetVersion"
    }
   ],
   "dockerImageVersionId": 30648,
   "isGpuEnabled": true,
   "isInternetEnabled": true,
   "language": "python",
   "sourceType": "notebook"
  },
  "kernelspec": {
   "display_name": "Python 3",
   "language": "python",
   "name": "python3"
  },
  "language_info": {
   "codemirror_mode": {
    "name": "ipython",
    "version": 3
   },
   "file_extension": ".py",
   "mimetype": "text/x-python",
   "name": "python",
   "nbconvert_exporter": "python",
   "pygments_lexer": "ipython3",
   "version": "3.10.13"
  },
  "papermill": {
   "default_parameters": {},
   "duration": 10966.897195,
   "end_time": "2024-02-04T17:47:50.690395",
   "environment_variables": {},
   "exception": null,
   "input_path": "__notebook__.ipynb",
   "output_path": "__notebook__.ipynb",
   "parameters": {},
   "start_time": "2024-02-04T14:45:03.793200",
   "version": "2.5.0"
  }
 },
 "nbformat": 4,
 "nbformat_minor": 5
}
